{
  "nbformat": 4,
  "nbformat_minor": 0,
  "metadata": {
    "colab": {
      "provenance": [],
      "collapsed_sections": []
    },
    "kernelspec": {
      "name": "python3",
      "display_name": "Python 3"
    },
    "language_info": {
      "name": "python"
    }
  },
  "cells": [
    {
      "cell_type": "markdown",
      "source": [
        "Prediction of a input test point using a different K value which is not used in 1A and using the same training data as used in 1 A"
      ],
      "metadata": {
        "id": "BdC19u5MoplV"
      }
    },
    {
      "cell_type": "code",
      "execution_count": 76,
      "metadata": {
        "id": "jKF45cN6yLmj"
      },
      "outputs": [],
      "source": [
        "# Importing Required Packages\n",
        "import numpy as np\n",
        "import math"
      ]
    },
    {
      "cell_type": "code",
      "source": [
        "#Reading the training data given in project file using nump\n",
        "train_data =np.genfromtxt('1BB.txt',dtype=None, names = ['myfloat','myfloat','myint','mystring'],delimiter=',',encoding=None)"
      ],
      "metadata": {
        "id": "4vfKuxjsyT6k"
      },
      "execution_count": 77,
      "outputs": []
    },
    {
      "cell_type": "code",
      "source": [
        "list(train_data)"
      ],
      "metadata": {
        "colab": {
          "base_uri": "https://localhost:8080/"
        },
        "id": "VPmButE8HREa",
        "outputId": "f85ba4a9-26eb-446e-9d52-3114de8d4925"
      },
      "execution_count": 78,
      "outputs": [
        {
          "output_type": "execute_result",
          "data": {
            "text/plain": [
              "[(1.65301904, 72.87114665, 24, 'W'),\n",
              " (1.64713849, 72.61278531, 34, 'W'),\n",
              " (1.64720558, 73.53968351, 33, 'M'),\n",
              " (1.73230089, 76.06787034, 30, 'M'),\n",
              " (1.67507027, 81.05582112, 30, 'M'),\n",
              " (1.57809707, 64.92608468, 30, 'W'),\n",
              " (1.65876294, 69.38092449, 30, 'M'),\n",
              " (1.6763296, 77.06229599, 31, 'M'),\n",
              " (1.71872241, 62.11292332, 37, 'W'),\n",
              " (1.52022182, 66.15144402, 27, 'W'),\n",
              " (1.55526893, 66.07638614, 31, 'W'),\n",
              " (1.69693332, 77.45386245, 34, 'M'),\n",
              " (1.68879808, 76.48964073, 37, 'M'),\n",
              " (1.52135529, 63.95294495, 35, 'W')]"
            ]
          },
          "metadata": {},
          "execution_count": 78
        }
      ]
    },
    {
      "cell_type": "code",
      "source": [
        "#Test data \n",
        "test_data=[ 1.62065759, 59.37655744, 32]"
      ],
      "metadata": {
        "id": "FzFnLWzLyXKD"
      },
      "execution_count": 79,
      "outputs": []
    },
    {
      "cell_type": "code",
      "source": [
        "#define the value of K which needs to be used\n",
        "k=int(input('enter the value of k :' ))"
      ],
      "metadata": {
        "id": "GtAumYh_w3Wb",
        "colab": {
          "base_uri": "https://localhost:8080/"
        },
        "outputId": "c13a0777-9490-4968-af19-78f5e98d7c10"
      },
      "execution_count": 80,
      "outputs": [
        {
          "name": "stdout",
          "output_type": "stream",
          "text": [
            "enter the value of k :3\n"
          ]
        }
      ]
    },
    {
      "cell_type": "code",
      "source": [
        "# Euclidean distance measure\n",
        "from math import sqrt\n",
        "def euclidean_distance(x, y):\n",
        "\tdistance = 0\n",
        "\tfor i in range(len(x)-1):\n",
        "\t\tdistance =distance+(x[i] - y[i])**2\n",
        "\treturn sqrt(distance)"
      ],
      "metadata": {
        "id": "nCn9BhxFyvag"
      },
      "execution_count": 81,
      "outputs": []
    },
    {
      "cell_type": "code",
      "source": [
        "# function of K retreving K nearest neighbors\n",
        "def get_K_nearneighbors(train, test, k):\n",
        "\tdict={}\n",
        "\tdistances = []\n",
        "\tfor i in train:\n",
        "\t\tdist = euclidean_distance(i, test)\n",
        "\t\tdistances.append(dist)\n",
        "\t\tdict[dist]=i\n",
        "\tsorted(dict.items())\n",
        "\tdistances.sort()\n",
        "\t\n",
        "\n",
        "# Retreving K neareast neighbours\n",
        "\tneighbors = []\n",
        "\tfor j in range(k):\n",
        "\t\tneighbors.append(dict[distances[j]])\n",
        "\treturn neighbors"
      ],
      "metadata": {
        "id": "gjTxw2l5zC1U"
      },
      "execution_count": 82,
      "outputs": []
    },
    {
      "cell_type": "code",
      "source": [
        "# Make a prediction with neighbors \n",
        "def predict_classification(train, test, k):\n",
        "\tneighbors = get_K_nearneighbors(train_data, test_data, k)\n",
        "\toutput_values = [row[-1] for row in neighbors]\n",
        "\tprediction = max(set(output_values), key=output_values.count)\n",
        "\treturn prediction\n"
      ],
      "metadata": {
        "id": "-rbDidkh0wSw"
      },
      "execution_count": 83,
      "outputs": []
    },
    {
      "cell_type": "code",
      "source": [
        "# prediction of class label for test point using k=9 by euclidean distance measure.   \n",
        "print(\"For Test data \",test_data)\n",
        "print(\"The k neareast neighbours for test point using euclidean distance measure are\", get_K_nearneighbors(train_data,test_data,k))\n",
        "print(\"The predicted class label for test data point when k is\",k,'the label is',predict_classification(train_data,test_data,k))"
      ],
      "metadata": {
        "colab": {
          "base_uri": "https://localhost:8080/"
        },
        "id": "Bb1cZcS_1Fbi",
        "outputId": "5382bfb0-fcf1-4417-c773-b0d2419644d1"
      },
      "execution_count": 84,
      "outputs": [
        {
          "output_type": "stream",
          "name": "stdout",
          "text": [
            "For Test data  [1.62065759, 59.37655744, 32]\n",
            "The k neareast neighbours for test point using euclidean distance measure are [(1.52135529, 63.95294495, 35, 'W'), (1.71872241, 62.11292332, 37, 'W'), (1.57809707, 64.92608468, 30, 'W')]\n",
            "The predicted class label for test data point when k is 3 the label is W\n"
          ]
        }
      ]
    },
    {
      "cell_type": "markdown",
      "source": [
        "Prediction of a input test data point when a different training data is used"
      ],
      "metadata": {
        "id": "qvcANB_ypP47"
      }
    },
    {
      "cell_type": "code",
      "source": [
        "#Reading the training data given in project file using nump\n",
        "train_data1 =np.genfromtxt('1b_train.txt',dtype=None, names = ['myfloat','myfloat','myint','mystring'],delimiter=',',encoding=None)\n"
      ],
      "metadata": {
        "id": "lvFQPqgeoni9"
      },
      "execution_count": 85,
      "outputs": []
    },
    {
      "cell_type": "code",
      "source": [
        "train_data1"
      ],
      "metadata": {
        "colab": {
          "base_uri": "https://localhost:8080/"
        },
        "id": "UF-yf_5aIm9l",
        "outputId": "501dfc1f-85f0-47d9-f58b-32562d98f3e1"
      },
      "execution_count": 57,
      "outputs": [
        {
          "output_type": "execute_result",
          "data": {
            "text/plain": [
              "array([(1.59636005, 75.71719418, 23, ' W'),\n",
              "       (1.69906108, 83.4773075 , 25, ' M'),\n",
              "       (1.50520924, 74.64242082, 21, ' W'),\n",
              "       (1.57386358, 78.56246528, 30, ' M'),\n",
              "       (1.79617877, 74.56611706, 29, ' M'),\n",
              "       (1.62746188, 82.25059157, 21, ' W'),\n",
              "       (1.63968433, 71.37567171, 20, ' W'),\n",
              "       (1.53850582, 77.4189021 , 32, ' W')],\n",
              "      dtype=[('myfloat', '<f8'), ('myfloat_1', '<f8'), ('myint', '<i8'), ('mystring', '<U2')])"
            ]
          },
          "metadata": {},
          "execution_count": 57
        }
      ]
    },
    {
      "cell_type": "code",
      "source": [
        "# prediction of class label for test point using k=5 by euclidean distance measure.   \n",
        "print(\"For Test data \",test_data)\n",
        "print(\"The k neareast neighbours for test point using euclidean distance measure are\", get_K_nearneighbors(train_data1,test_data,k))\n",
        "print(\"The predicted class label for test data point when k is\",k,'the label is',predict_classification(train_data1,test_data,k))"
      ],
      "metadata": {
        "colab": {
          "base_uri": "https://localhost:8080/"
        },
        "id": "HGblXmtVqzCi",
        "outputId": "3fb28eb7-bcc5-4eee-cc79-a72aa28587e6"
      },
      "execution_count": 86,
      "outputs": [
        {
          "output_type": "stream",
          "name": "stdout",
          "text": [
            "For Test data  [1.62065759, 59.37655744, 32]\n",
            "The k neareast neighbours for test point using euclidean distance measure are [(1.79617877, 74.56611706, 29, ' M'), (1.63968433, 71.37567171, 20, ' W'), (1.53850582, 77.4189021, 32, ' W')]\n",
            "The predicted class label for test data point when k is 3 the label is W\n"
          ]
        }
      ]
    }
  ]
}