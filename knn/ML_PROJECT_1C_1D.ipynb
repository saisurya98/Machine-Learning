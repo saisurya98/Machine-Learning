{
  "nbformat": 4,
  "nbformat_minor": 0,
  "metadata": {
    "colab": {
      "provenance": [],
      "collapsed_sections": []
    },
    "kernelspec": {
      "name": "python3",
      "display_name": "Python 3"
    },
    "language_info": {
      "name": "python"
    }
  },
  "cells": [
    {
      "cell_type": "code",
      "execution_count": 1,
      "metadata": {
        "id": "kThaG-c58W40"
      },
      "outputs": [],
      "source": [
        "# Importing Required Packages\n",
        "import numpy as np\n",
        "import math"
      ]
    },
    {
      "cell_type": "code",
      "source": [
        "#Reading the training data given in project file \n",
        "train_data=[(( 1.5963600450124, 75.717194178189, 23), 'W' ),\n",
        "(( 1.6990610819676, 83.477307503684, 25), 'M' ),\n",
        "(( 1.5052092436, 74.642420817737, 21), 'W' ),\n",
        "(( 1.5738635789008, 78.562465284603, 30), 'M' ),\n",
        "(( 1.796178772769, 74.566117057707, 29), 'M' ),\n",
        "(( 1.6274618774347, 82.250591567161, 21), 'W' ),\n",
        "(( 1.6396843250708, 71.37567170848, 20), 'W' ),\n",
        "(( 1.538505823668, 77.418902097029, 32), 'W' ),\n",
        "(( 1.6488692005889, 76.333044488477, 26), 'W' ),\n",
        "(( 1.7233804613095, 85.812112126306, 27), 'M' ),\n",
        "(( 1.7389100516771, 76.424421782215, 24), 'W' ),\n",
        "(( 1.5775696242624, 77.201404139171, 29), 'W' ),\n",
        "(( 1.7359417237856, 77.004988515324, 20), 'M' ),\n",
        "(( 1.5510482441354, 72.950756316157, 24), 'W' ),\n",
        "(( 1.5765653263667, 74.750113664457, 34), 'W' ),\n",
        "(( 1.4916026885377, 65.880438515643, 28), 'W' ),\n",
        "(( 1.6755053770068, 78.901754249459, 22), 'M' ),\n",
        "(( 1.4805881225567, 69.652364469244, 30), 'W' ),\n",
        "(( 1.6343943760912, 73.998278712613, 30), 'W' ),\n",
        "(( 1.6338449829543, 79.216500811112, 27), 'W' ),\n",
        "(( 1.5014451222259, 66.917339299419, 27), 'W' ),\n",
        "(( 1.8575887178701, 79.942454850988, 28), 'M' ),\n",
        "(( 1.6805940669394, 78.213519314007, 27), 'W' ),\n",
        "(( 1.6888905106948, 83.031099742808, 20), 'M' ),\n",
        "(( 1.7055120272359, 84.233282531303, 18), 'M' ),\n",
        "(( 1.5681965896812, 74.753880204215, 22), 'W' ),\n",
        "(( 1.6857758389206, 84.014217544019, 25), 'W' ),\n",
        "(( 1.7767370337678, 75.709336556562, 27), 'M' ),\n",
        "(( 1.6760125952287, 74.034126149139, 28), 'M' ),\n",
        "(( 1.5999112612548, 72.040030344184, 27), 'M' ),\n",
        "(( 1.6770845322305, 76.149431872551, 25), 'M' ),\n",
        "(( 1.7596128136991, 87.366395298795, 29), 'M' ),\n",
        "(( 1.5344541456027, 73.832214971449, 22), 'W' ),\n",
        "(( 1.5992629534387, 82.4806916967, 34), 'W' ),\n",
        "(( 1.6714162787917, 67.986534194515, 29), 'W' ),\n",
        "(( 1.7070831676329, 78.269583353177, 25), 'M' ),\n",
        "(( 1.5691295338456, 81.09431696972, 27), 'M' ),\n",
        "(( 1.7767893419281, 76.910413184648, 30), 'M' ),\n",
        "(( 1.5448153215763, 76.888087599642, 32), 'W' ),\n",
        "(( 1.5452842691008, 69.761889289463, 30), 'W' ),\n",
        "(( 1.6469991919639, 82.289126983444, 18), 'W' ),\n",
        "(( 1.6353732734723, 77.829257585654, 19), 'W' ),\n",
        "(( 1.7175342426502, 85.002276406574, 26), 'M' ),\n",
        "(( 1.6163551692382, 77.247935733799, 21), 'M' ),\n",
        "(( 1.6876845881843, 85.616829192322, 27), 'M' ),\n",
        "(( 1.5472705508274, 64.474350365634, 23), 'W' ),\n",
        "(( 1.558229415357, 80.382011318379, 21), 'W' ),\n",
        "(( 1.6242189230632, 69.567339939973, 28), 'W' ),\n",
        "(( 1.8215645865237, 78.163631826626, 22), 'W' ),\n",
        "(( 1.6984142478298, 69.884030497097, 26), 'M' ),\n",
        "(( 1.6468551415123, 82.666468220128, 29), 'M' ),\n",
        "(( 1.5727791290292, 75.545348033094, 24), 'M' ),\n",
        "(( 1.8086593470477, 78.093913654921, 27), 'M' ),\n",
        "(( 1.613966988578, 76.083586505149, 23), 'W' ),\n",
        "(( 1.6603990297076, 70.539053122611, 24), 'M' ),\n",
        "(( 1.6737443242383, 66.042005829182, 28), 'W' ),\n",
        "(( 1.6824912337281, 81.061984274536, 29), 'M' ),\n",
        "(( 1.5301691510101, 77.26547501308, 22), 'M' ),\n",
        "(( 1.7392340943261, 92.752488433153, 24), 'M' ),\n",
        "(( 1.6427105169884, 83.322790265985, 30), 'M' ),\n",
        "(( 1.5889040551166, 74.848224733663, 25), 'W' ),\n",
        "(( 1.5051718284868, 80.078271153645, 31), 'W' ),\n",
        "(( 1.729420786579, 81.936423109142, 26), 'M' ),\n",
        "(( 1.7352568354092, 85.497712687992, 19), 'M' ),\n",
        "(( 1.5056950011245, 73.726557750383, 24), 'W' ),\n",
        "(( 1.772404089054, 75.534265951718, 30), 'M' ),\n",
        "(( 1.5212346939173, 74.355845722315, 29), 'W' ),\n",
        "(( 1.8184515409355, 85.705767969326, 25), 'M' ),\n",
        "(( 1.7307897479464, 84.277029918205, 28), 'W' ),\n",
        "(( 1.6372690389158, 72.289040612489, 27), 'M' ),\n",
        "(( 1.6856953072545, 70.406532419182, 28), 'W' ),\n",
        "(( 1.832494802635, 81.627925524191, 27), 'M' ),\n",
        "(( 1.5061197864796, 85.886760677468, 31), 'W' ),\n",
        "(( 1.5970906671458, 71.755566818152, 27), 'W' ),\n",
        "(( 1.6780459059283, 78.900587239209, 25), 'W' ),\n",
        "(( 1.6356901170146, 84.066566323977, 21), 'W' ),\n",
        "(( 1.6085494116591, 70.950456539016, 30), 'M' ),\n",
        "(( 1.5873479102442, 77.558144903338, 25), 'M' ),\n",
        "(( 1.7542078120838, 75.3117550236, 26), 'M' ),\n",
        "(( 1.642417315747, 67.97377818999, 31), 'W' ),\n",
        "(( 1.5744266340913, 81.767568318602, 23), 'M' ),\n",
        "(( 1.8470601407979, 68.606183538532, 30), 'W' ),\n",
        "(( 1.7119387468283, 80.560922353487, 27), 'W' ),\n",
        "(( 1.6169930563306, 75.538611935125, 27), 'M' ),\n",
        "(( 1.6355653058986, 78.49626023408, 24), 'M' ),\n",
        "(( 1.6035395957618, 79.226052358485, 33), 'M' ),\n",
        "(( 1.662787957279, 76.865925681154, 25), 'M' ),\n",
        "(( 1.5889291137091, 76.548543553914, 28), 'W' ),\n",
        "(( 1.9058127964477, 82.56539915922, 25), 'M' ),\n",
        "(( 1.694633493614, 62.870480634419, 21), 'W' ),\n",
        "(( 1.7635692396034, 82.479783004684, 27), 'M' ),\n",
        "(( 1.6645292231449, 75.838104636904, 29), 'W' ),\n",
        "(( 1.7201968406129, 81.134689293557, 24), 'W' ),\n",
        "(( 1.5775563651749, 65.920103519266, 24), 'W' ),\n",
        "(( 1.6521294216004, 83.312640709417, 28), 'M' ),\n",
        "(( 1.5597501915973, 76.475667826389, 30), 'W' ),\n",
        "(( 1.7847561120027, 83.363676219109, 29), 'M' ),\n",
        "(( 1.6765690500715, 73.98959022721, 23), 'M' ),\n",
        "(( 1.6749260607992, 73.687015573315, 27), 'W' ),\n",
        "(( 1.58582362825, 71.713707691505, 28), 'M' ),\n",
        "(( 1.5893375739649, 74.248033504548, 27), 'W' ),\n",
        "(( 1.6084440045081, 71.126430164213, 27), 'W' ),\n",
        "(( 1.6048804804343, 82.049319162211, 26), 'W' ),\n",
        "(( 1.5774196609804, 70.878214496062, 24), 'W' ),\n",
        "(( 1.6799586185525, 75.649534976838, 29), 'W' ),\n",
        "(( 1.7315642636281, 92.12183674186, 29), 'M' ),\n",
        "(( 1.5563282000349, 69.312673560451, 32), 'W' ),\n",
        "(( 1.7784349641893, 83.464562543, 26), 'M' ),\n",
        "(( 1.7270244609765, 76.599791001341, 22), 'W' ),\n",
        "(( 1.6372540837311, 74.746741127229, 30), 'W' ),\n",
        "(( 1.582550559056, 73.440027907722, 23), 'W' ),\n",
        "(( 1.722864383186, 79.37821152354, 20), 'W' ),\n",
        "(( 1.5247544081009, 70.601290492141, 27), 'W' ),\n",
        "(( 1.580858666774, 70.146982323579, 24), 'W' ),\n",
        "(( 1.703343390074, 90.153276095421, 22), 'W' ),\n",
        "(( 1.5339948635367, 59.675627532338, 25), 'W' ),\n",
        "(( 1.8095306490733, 86.001187990639, 20), 'M' ),\n",
        "(( 1.7454786971676, 85.212429336602, 22), 'M' ),\n",
        "(( 1.6343303342105, 85.46378358014, 32), 'M' ),\n",
        "(( 1.5983479173071, 79.323905480504, 27), 'W' )]\n"
      ],
      "metadata": {
        "id": "PLkOOvEw8g2P"
      },
      "execution_count": 2,
      "outputs": []
    },
    {
      "cell_type": "code",
      "source": [
        "#convert the train data type from tuple into list\n",
        "train_list=[]\n",
        "\n",
        "for i in range(len(train_data)):\n",
        "    data = list(train_data[i][0])\n",
        "    data.extend(train_data[i][1])\n",
        "    \n",
        "    train_list.append(data)"
      ],
      "metadata": {
        "id": "3aK8DcdQjJPJ"
      },
      "execution_count": 3,
      "outputs": []
    },
    {
      "cell_type": "code",
      "source": [
        "#euclidean measure \n",
        "def euclidean_distance(x,y):\n",
        "  distance=0.00\n",
        "  x1=np.square(x[0]-y[0])\n",
        "  x2=np.square(x[1]-y[1])\n",
        "  x3=np.square(x[2]-y[2])\n",
        "  distance=np.sum(x1+x2+x3)\n",
        "  return np.square(distance)"
      ],
      "metadata": {
        "id": "Ijw0oPlIKUDL"
      },
      "execution_count": 4,
      "outputs": []
    },
    {
      "cell_type": "code",
      "source": [
        "# function of K retreving K nearest neighbors\n",
        "def get_K_nearneighbors(train, test, k):\n",
        "\tdict={}\n",
        "\tdistances = []\n",
        "\tfor i in train:\n",
        "\t\tdist = euclidean_distance(i, test)\n",
        "\t\tdistances.append(dist)\n",
        "\t\tdict[dist]=i\n",
        "\t#sorted(dict.items())\n",
        "\tdistances.sort()\n",
        "\t\n",
        "\n",
        "# Retreving K neareast neighbours\n",
        "\tneighbors = []\n",
        "\tfor j in range(k):\n",
        "\t\tneighbors.append(dict[distances[j]])\n",
        "\treturn neighbors"
      ],
      "metadata": {
        "id": "wlPr6e0NRXTx"
      },
      "execution_count": 5,
      "outputs": []
    },
    {
      "cell_type": "code",
      "source": [
        "# Make a prediction with neighbors like done in 1B\n",
        "def predict_classification(train, test, k):\n",
        "\tneighbors = get_K_nearneighbors(train, test, k)\n",
        "\toutput_values = [row[-1] for row in neighbors]\n",
        "\tprediction = max(set(output_values), key=output_values.count)\n",
        "\treturn prediction"
      ],
      "metadata": {
        "id": "aSEJVi3QRfFB"
      },
      "execution_count": 6,
      "outputs": []
    },
    {
      "cell_type": "code",
      "source": [
        "# Splitting the data from given programme data into train and test data for Leave one out cross validation and getting the acurracy measure using the correctness in prediction\n",
        "def leaveoneout_CV(train,k):\n",
        "  correct_predictions=0\n",
        "  for i in range(0,120):\n",
        "    test_LOCV= train[i]\n",
        "    train_LOCV=[x for x in train if x!=test_LOCV]\n",
        "    original_label=test_LOCV[-1]\n",
        "   \n",
        "    predict_label=predict_classification(train_LOCV,test_LOCV,k)\n",
        "    if predict_label == original_label:\n",
        "      correct_predictions=correct_predictions+1\n",
        "  return correct_predictions/len(train)\n"
      ],
      "metadata": {
        "id": "ZkDCSqLTFffh"
      },
      "execution_count": 7,
      "outputs": []
    },
    {
      "cell_type": "code",
      "source": [
        "#Get the accuracy for given k value using leave one out cross validation\n",
        "print('The accuracy of KNN algorithm with leave one out cross validation when k=1 is' ,leaveoneout_CV(train_list,1))\n",
        "print('The accuracy of KNN algorithm with leave one out cross validation when k=3 is' ,leaveoneout_CV(train_list,3))\n",
        "print('The accuracy of KNN algorithm with leave one out cross validation when k=5 is' ,leaveoneout_CV(train_list,5))\n",
        "print('The accuracy of KNN algorithm with leave one out cross validation when k=7 is' ,leaveoneout_CV(train_list,7))\n",
        "print('The accuracy of KNN algorithm with leave one out cross validation when k=9 is' ,leaveoneout_CV(train_list,9))\n",
        "print('The accuracy of KNN algorithm with leave one out cross validation when k=11 is' ,leaveoneout_CV(train_list,11))"
      ],
      "metadata": {
        "colab": {
          "base_uri": "https://localhost:8080/",
          "height": 0
        },
        "id": "BfVg9tv6PxRq",
        "outputId": "2daff275-ff87-44c6-d4d3-76164824c0fb"
      },
      "execution_count": 8,
      "outputs": [
        {
          "output_type": "stream",
          "name": "stdout",
          "text": [
            "The accuracy of KNN algorithm with leave one out cross validation when k=1 is 0.55\n",
            "The accuracy of KNN algorithm with leave one out cross validation when k=3 is 0.6166666666666667\n",
            "The accuracy of KNN algorithm with leave one out cross validation when k=5 is 0.6166666666666667\n",
            "The accuracy of KNN algorithm with leave one out cross validation when k=7 is 0.6083333333333333\n",
            "The accuracy of KNN algorithm with leave one out cross validation when k=9 is 0.6333333333333333\n",
            "The accuracy of KNN algorithm with leave one out cross validation when k=11 is 0.5916666666666667\n"
          ]
        }
      ]
    },
    {
      "cell_type": "markdown",
      "source": [
        "**1D** "
      ],
      "metadata": {
        "id": "23C0sRj4o67l"
      }
    },
    {
      "cell_type": "code",
      "source": [
        "# Removing the age column in train data for further analysis \n",
        "train_list_withoutage=[]\n",
        "for i in train_list:\n",
        "  x=np.append(float(i[0]),float(i[1]))\n",
        "  data=list(x)\n",
        "  data.extend(i[3])\n",
        "  train_list_withoutage.append(data)"
      ],
      "metadata": {
        "id": "aGLW4sV2odCJ"
      },
      "execution_count": 9,
      "outputs": []
    },
    {
      "cell_type": "code",
      "source": [
        "# Euclidean distance measure\n",
        "from math import sqrt\n",
        "def euclidean(x, y):\n",
        "\tdistance = 0\n",
        "\tfor i in range(len(x)-1):\n",
        "\t\tdistance =distance+(x[i] - y[i])**2\n",
        "\treturn sqrt(distance)"
      ],
      "metadata": {
        "id": "lnDAtJ6hVCEL"
      },
      "execution_count": 10,
      "outputs": []
    },
    {
      "cell_type": "code",
      "source": [
        "# function of K retreving K nearest neighbors using the above euclidean distance measure\n",
        "def get_K_nearneighbors(train, test, k):\n",
        "\tdict={}\n",
        "\tdistances = []\n",
        "\tfor i in train:\n",
        "\t\tdist = euclidean(i, test)\n",
        "\t\tdistances.append(dist)\n",
        "\t\tdict[dist]=i\n",
        "\t#sorted(dict.items())\n",
        "\tdistances.sort()\n",
        "\t\n",
        "\n",
        "# Retreving K neareast neighbours\n",
        "\tneighbors = []\n",
        "\tfor j in range(k):\n",
        "\t\tneighbors.append(dict[distances[j]])\n",
        "\treturn neighbors"
      ],
      "metadata": {
        "id": "ZlWqI_p4tbv5"
      },
      "execution_count": 11,
      "outputs": []
    },
    {
      "cell_type": "markdown",
      "source": [
        "Printing the accuracy for various values of k for given training data without age column attribute"
      ],
      "metadata": {
        "id": "dLd5J9lCvgK7"
      }
    },
    {
      "cell_type": "code",
      "source": [
        "\n",
        "print('The accuracy of KNN algorithm with leave one out cross validation when k=1 is' ,leaveoneout_CV(train_list_withoutage,1))\n",
        "print('The accuracy of KNN algorithm with leave one out cross validation when k=3 is' ,leaveoneout_CV(train_list_withoutage,3))\n",
        "print('The accuracy of KNN algorithm with leave one out cross validation when k=5 is' ,leaveoneout_CV(train_list_withoutage,5))\n",
        "print('The accuracy of KNN algorithm with leave one out cross validation when k=7 is' ,leaveoneout_CV(train_list_withoutage,7))\n",
        "print('The accuracy of KNN algorithm with leave one out cross validation when k=9 is' ,leaveoneout_CV(train_list_withoutage,9))\n",
        "print('The accuracy of KNN algorithm with leave one out cross validation when k=11 is' ,leaveoneout_CV(train_list_withoutage,11))\n"
      ],
      "metadata": {
        "colab": {
          "base_uri": "https://localhost:8080/",
          "height": 0
        },
        "id": "dqjkhohitqhw",
        "outputId": "d111c6cb-a8fa-4d5b-e08e-2f393836e56c"
      },
      "execution_count": 12,
      "outputs": [
        {
          "output_type": "stream",
          "name": "stdout",
          "text": [
            "The accuracy of KNN algorithm with leave one out cross validation when k=1 is 0.625\n",
            "The accuracy of KNN algorithm with leave one out cross validation when k=3 is 0.7083333333333334\n",
            "The accuracy of KNN algorithm with leave one out cross validation when k=5 is 0.65\n",
            "The accuracy of KNN algorithm with leave one out cross validation when k=7 is 0.6333333333333333\n",
            "The accuracy of KNN algorithm with leave one out cross validation when k=9 is 0.6\n",
            "The accuracy of KNN algorithm with leave one out cross validation when k=11 is 0.575\n"
          ]
        }
      ]
    },
    {
      "cell_type": "markdown",
      "source": [],
      "metadata": {
        "id": "9DdsROAjxwda"
      }
    },
    {
      "cell_type": "markdown",
      "source": [
        "Reporting the results for the given training data without age column attribute"
      ],
      "metadata": {
        "id": "Xy9dwyhuu3eL"
      }
    },
    {
      "cell_type": "markdown",
      "source": [
        "When both results for problem 1c and 1b are observed we can say that accuracy for model without age attribute is more than the model with age attribute. However this statement is not valid when k is 9 and 11. \n"
      ],
      "metadata": {
        "id": "iET_19GAvyu5"
      }
    },
    {
      "cell_type": "markdown",
      "source": [],
      "metadata": {
        "id": "i0YJcDnYvNAE"
      }
    },
    {
      "cell_type": "markdown",
      "source": [],
      "metadata": {
        "id": "MkXHaBMqux9c"
      }
    }
  ]
}