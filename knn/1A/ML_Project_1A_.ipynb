{
  "nbformat": 4,
  "nbformat_minor": 0,
  "metadata": {
    "colab": {
      "provenance": [],
      "collapsed_sections": []
    },
    "kernelspec": {
      "name": "python3",
      "display_name": "Python 3"
    },
    "language_info": {
      "name": "python"
    }
  },
  "cells": [
    {
      "cell_type": "code",
      "execution_count": 3,
      "metadata": {
        "id": "0CeWSZUIJAJp"
      },
      "outputs": [],
      "source": [
        "# Importing Required Packages\n",
        "import numpy as np\n",
        "import math"
      ]
    },
    {
      "cell_type": "code",
      "source": [
        "#Reading the training data given in project file using nump\n",
        "train_data =np.genfromtxt('1a_train.txt', dtype=None,names = ['myfloat','myfloat','myint'],delimiter=',')"
      ],
      "metadata": {
        "id": "YB8txSyEMJIS"
      },
      "execution_count": 5,
      "outputs": []
    },
    {
      "cell_type": "code",
      "source": [
        "#Training data which is used\n",
        "\n",
        "print(train_data)"
      ],
      "metadata": {
        "colab": {
          "base_uri": "https://localhost:8080/"
        },
        "id": "2d88SzECPwvp",
        "outputId": "0f705388-b0ba-437b-859e-594f9a2ecfe4"
      },
      "execution_count": 6,
      "outputs": [
        {
          "output_type": "stream",
          "name": "stdout",
          "text": [
            "[(1.65301904, 72.87114665, 24) (1.64713849, 72.61278531, 34)\n",
            " (1.64720558, 73.53968351, 33) (1.73230089, 76.06787034, 30)\n",
            " (1.67507027, 81.05582112, 30) (1.57809707, 64.92608468, 30)\n",
            " (1.65876294, 69.38092449, 30) (1.6763296 , 77.06229599, 31)\n",
            " (1.71872241, 62.11292332, 37) (1.52022182, 66.15144402, 27)\n",
            " (1.55526893, 66.07638614, 31) (1.69693332, 77.45386245, 34)\n",
            " (1.68879808, 76.48964073, 37) (1.52135529, 63.95294495, 35)]\n"
          ]
        }
      ]
    },
    {
      "cell_type": "code",
      "source": [
        "#Test data \n",
        "test_data =np.genfromtxt('1a_Test.txt',dtype=None, names = ['myfloat','myfloat','myint'],delimiter=',')"
      ],
      "metadata": {
        "id": "pZOvIAEQVciu"
      },
      "execution_count": 8,
      "outputs": []
    },
    {
      "cell_type": "code",
      "source": [
        "# Test data on which predictions have to be done\n",
        "test_data\n"
      ],
      "metadata": {
        "colab": {
          "base_uri": "https://localhost:8080/"
        },
        "id": "g6cO7HMzVwyW",
        "outputId": "0016d30b-e874-42d5-f590-58bfbd6d4596"
      },
      "execution_count": 9,
      "outputs": [
        {
          "output_type": "execute_result",
          "data": {
            "text/plain": [
              "array([(1.62065759, 59.37655744, 32), (1.77939838, 72.07177567, 36),\n",
              "       (1.70045766, 66.26750811, 31), (1.65910862, 61.7516219 , 29)],\n",
              "      dtype=[('myfloat', '<f8'), ('myfloat_1', '<f8'), ('myint', '<i8')])"
            ]
          },
          "metadata": {},
          "execution_count": 9
        }
      ]
    },
    {
      "cell_type": "markdown",
      "source": [
        "Defining the required similarity measures "
      ],
      "metadata": {
        "id": "hVQWHo_aw3JB"
      }
    },
    {
      "cell_type": "code",
      "source": [
        "#Euclidean distance function\n",
        "def euc(x1,y1,z1,x2,y2,z2):\n",
        "  euc_dist = ((x1-x2)**2 +(y1-y2)**2+(z1-z2)**2)**0.5\n",
        "  return euc_dist\n",
        "\n",
        "# Manhattan distance Function\n",
        "def man(x1,y1,z1,x2,y2,z2):\n",
        "  man_dist=(abs(x1-x2)+abs(y1-y2)+abs(z1-z2))\n",
        "  return man_dist\n",
        "\n",
        "# Minowski Distance Function\n",
        "def min(x1,y1,z1,x2,y2,z2):\n",
        "  min_dist = (abs(x1-x2)**3 +abs(y1-y2)**3+abs(z1-z2)**3)**0.333\n",
        "  return min_dist\n"
      ],
      "metadata": {
        "id": "mtxIp9WLV-rM"
      },
      "execution_count": 10,
      "outputs": []
    },
    {
      "cell_type": "markdown",
      "source": [],
      "metadata": {
        "id": "dwHQw6wmHtSa"
      }
    },
    {
      "cell_type": "markdown",
      "source": [
        "Euclidean Distance calculations"
      ],
      "metadata": {
        "id": "xJk0mpfNI-J7"
      }
    },
    {
      "cell_type": "markdown",
      "source": [],
      "metadata": {
        "id": "I9FuSy3IU_4a"
      }
    },
    {
      "cell_type": "code",
      "source": [
        "euc_list1={}\n",
        "euc_list2={}\n",
        "euc_list3={}\n",
        "euc_list4={}\n",
        "\n",
        "for i in range(0, len(train_data)):\n",
        "  e1 = euc(train_data[i][0], train_data[i][1],train_data[i][2],test_data[0][0],test_data[0][1],test_data[0][2])\n",
        "  euc_list1[e1] = train_data[i]\n",
        "sort_euc1=sorted(euc_list1.items())\n",
        "\n",
        "for i in range(0,len(train_data)):\n",
        "  e2=euc(train_data[i][0],train_data[i][1],train_data[i][2],test_data[1][0],test_data[1][1],test_data[1][2])\n",
        "  euc_list2[e2]=train_data[i]\n",
        "sort_euc2=sorted(euc_list2.items())\n",
        "\n",
        "\n",
        "for i in range(0,len(train_data)):\n",
        "  e3=euc(train_data[i][0],train_data[i][1],train_data[i][2],test_data[2][0],test_data[2][1],test_data[2][2])\n",
        "  euc_list3[e3]=train_data[i]\n",
        "sort_euc3=sorted(euc_list3.items())\n",
        "\n",
        "\n",
        "for i in range(0,len(train_data)):\n",
        "  e4=euc(train_data[i][0],train_data[i][1],train_data[i][2],test_data[3][0],test_data[3][1],test_data[3][2]) \n",
        "  euc_list4[e4]=train_data[i]\n",
        "sort_euc4= sorted(euc_list4.items())\n"
      ],
      "metadata": {
        "id": "hAlPtepkjbMb"
      },
      "execution_count": 11,
      "outputs": []
    },
    {
      "cell_type": "markdown",
      "source": [
        "Manhattan Distance calculations"
      ],
      "metadata": {
        "id": "d2x0xLquaL7v"
      }
    },
    {
      "cell_type": "code",
      "source": [
        "man_list1={}\n",
        "man_list2={}\n",
        "man_list3={}\n",
        "man_list4={}\n",
        "for i in range(0, len(train_data)):\n",
        "  m1 = man(train_data[i][0], train_data[i][1],train_data[i][2],test_data[0][0],test_data[0][1],test_data[0][2])\n",
        "  man_list1[m1] = train_data[i]\n",
        "sort_man1=sorted(man_list1.items())\n",
        "\n",
        "for i in range(0, len(train_data)):\n",
        "  m2 = man(train_data[i][0], train_data[i][1],train_data[i][2],test_data[1][0],test_data[1][1],test_data[1][2])\n",
        "  man_list2[m2] = train_data[i]\n",
        "sort_man2=sorted(man_list2.items())\n",
        "\n",
        "\n",
        "for i in range(0, len(train_data)):\n",
        "  m3 = man(train_data[i][0], train_data[i][1],train_data[i][2],test_data[2][0],test_data[2][1],test_data[2][2])\n",
        "  man_list3[m3] = train_data[i]\n",
        "sort_man3=sorted(man_list3.items())\n",
        "\n",
        "for i in range(0, len(train_data)):\n",
        "  m4 = man(train_data[i][0], train_data[i][1],train_data[i][2],test_data[3][0],test_data[3][1],test_data[3][2])\n",
        "  man_list4[m4] = train_data[i]\n",
        "sort_man4=sorted(man_list4.items())\n",
        "\n",
        "\n"
      ],
      "metadata": {
        "id": "U6K-t2BZaLur"
      },
      "execution_count": 12,
      "outputs": []
    },
    {
      "cell_type": "markdown",
      "source": [
        "Minowski Distance Calculations"
      ],
      "metadata": {
        "id": "itNXdwMccInp"
      }
    },
    {
      "cell_type": "code",
      "source": [
        "min_list1={}\n",
        "min_list2={}\n",
        "min_list3={}\n",
        "min_list4={}\n",
        "\n",
        "for i in range(0, len(train_data)):\n",
        "  e = min(train_data[i][0], train_data[i][1],train_data[i][2],test_data[0][0],test_data[0][1],test_data[0][2])\n",
        "  min_list1[e] = train_data[i]\n",
        "sort_min1=sorted(min_list1.items())\n",
        "\n",
        "for i in range(0, len(train_data)):\n",
        "  e = min(train_data[i][0], train_data[i][1],train_data[i][2],test_data[1][0],test_data[1][1],test_data[1][2])\n",
        "  min_list2[e] = train_data[i]\n",
        "sort_min2=sorted(min_list2.items())\n",
        "\n",
        "for i in range(0, len(train_data)):\n",
        "  e = min(train_data[i][0], train_data[i][1],train_data[i][2],test_data[2][0],test_data[2][1],test_data[2][2])\n",
        "  min_list3[e] = train_data[i]\n",
        "sort_min3=sorted(min_list3.items())\n",
        "\n",
        "for i in range(0, len(train_data)):\n",
        "  e = min(train_data[i][0], train_data[i][1],train_data[i][2],test_data[3][0],test_data[3][1],test_data[3][2])\n",
        "  min_list4[e] = train_data[i]\n",
        "sort_min4=sorted(min_list4.items())\n",
        "\n"
      ],
      "metadata": {
        "id": "ycE8LM0OO3bc"
      },
      "execution_count": 13,
      "outputs": []
    },
    {
      "cell_type": "markdown",
      "source": [
        "Prediction For k=1 and finding the corresponding neighbouring point"
      ],
      "metadata": {
        "id": "w6U0-v2nehP9"
      }
    },
    {
      "cell_type": "code",
      "source": [
        "print(\"For Test data \",test_data[0],\" The similarity measures are:\")\n",
        "print(\"The euclidean distance and corresponding train data point\" ,sort_euc1[0], \"The predicted class label is:\"  'W')\n",
        "print(\"The manhattan distance and corresponding train data point\",sort_man1[0],\"The predicted class label is:\"  'W')\n",
        "print(\"The minowski distance and corresponding train data point\",sort_min1[0],\"The predicted class label is:\"  'W')\n",
        "print(\"\\n\")\n",
        "\n",
        "\n",
        "print(\"For Test data \",test_data[1],\" The similarity measures are:\")\n",
        "print(\"The euclidean distance and corresponding train data point\" ,sort_euc2[0], \"The predicted class label is:\"  'W')\n",
        "print(\"The manhattan distance and corresponding train data point\",sort_man2[0],\"The predicted class label is:\"  'W')\n",
        "print(\"The minowski distance and corresponding train data point\",sort_min2[0],\"The predicted class label is:\"  'W')\n",
        "print(\"\\n\")\n",
        "\n",
        "print(\"For Test data \",test_data[2],\" The similarity measures are:\")\n",
        "print(\"The euclidean distance and corresponding train data point\" ,sort_euc3[0], \"The predicted class label is:\"  'W')\n",
        "print(\"The manhattan distance and corresponding train data point\",sort_man3[0],\"The predicted class label is:\"  'W')\n",
        "print(\"The minowski distance and corresponding train data point\",sort_min3[0],\"The predicted class label is:\"  'W')\n",
        "print(\"\\n\")\n",
        "\n",
        "print(\"For Test data \",test_data[3],\" The similarity measures are:\")\n",
        "print(\"The euclidean distance and corresponding train data point\" ,sort_euc4[0], \"The predicted class label is:\"  'W')\n",
        "print(\"The manhattan distance and corresponding train data point\",sort_man4[0],\"The predicted class label is:\"  'W')\n",
        "print(\"The minowski distance and corresponding train data point\",sort_min4[0],\"The predicted class label is:\"  'W')\n",
        "print(\"\\n\")"
      ],
      "metadata": {
        "colab": {
          "base_uri": "https://localhost:8080/"
        },
        "id": "Z4YYhKCXfOsl",
        "outputId": "48009441-4b89-4c83-b170-bd092d6ebd3f"
      },
      "execution_count": 14,
      "outputs": [
        {
          "output_type": "stream",
          "name": "stdout",
          "text": [
            "For Test data  (1.62065759, 59.37655744, 32)  The similarity measures are:\n",
            "The euclidean distance and corresponding train data point (5.472950174325465, (1.52135529, 63.95294495, 35)) The predicted class label is:W\n",
            "The manhattan distance and corresponding train data point (7.592087759707, (1.57809707, 64.92608468, 30)) The predicted class label is:W\n",
            "The minowski distance and corresponding train data point (4.963144423424694, (1.52135529, 63.95294495, 35)) The predicted class label is:W\n",
            "\n",
            "\n",
            "For Test data  (1.77939838, 72.07177567, 36)  The similarity measures are:\n",
            "The euclidean distance and corresponding train data point (2.076098289875464, (1.64713849, 72.61278531, 34)) The predicted class label is:W\n",
            "The manhattan distance and corresponding train data point (2.673269533035304, (1.64713849, 72.61278531, 34)) The predicted class label is:W\n",
            "The minowski distance and corresponding train data point (2.011891534675748, (1.64713849, 72.61278531, 34)) The predicted class label is:W\n",
            "\n",
            "\n",
            "For Test data  (1.70045766, 66.26750811, 31)  The similarity measures are:\n",
            "The euclidean distance and corresponding train data point (0.2400153673306244, (1.55526893, 66.07638614, 31)) The predicted class label is:W\n",
            "The manhattan distance and corresponding train data point (0.3363107053834071, (1.55526893, 66.07638614, 31)) The predicted class label is:W\n",
            "The minowski distance and corresponding train data point (0.21607417770229032, (1.55526893, 66.07638614, 31)) The predicted class label is:W\n",
            "\n",
            "\n",
            "For Test data  (1.65910862, 61.7516219, 29)  The similarity measures are:\n",
            "The euclidean distance and corresponding train data point (3.32923066209219, (1.57809707, 64.92608468, 30)) The predicted class label is:W\n",
            "The manhattan distance and corresponding train data point (4.255474327728905, (1.57809707, 64.92608468, 30)) The predicted class label is:W\n",
            "The minowski distance and corresponding train data point (3.203483595031558, (1.57809707, 64.92608468, 30)) The predicted class label is:W\n",
            "\n",
            "\n"
          ]
        }
      ]
    },
    {
      "cell_type": "markdown",
      "source": [
        "Prediction For k=**3** and finding the corresponding neighbouring point"
      ],
      "metadata": {
        "id": "19OF7SzC8v7M"
      }
    },
    {
      "cell_type": "code",
      "source": [
        "print(\"For Test data \",test_data[0],\" The similarity measures are:\")\n",
        "print(\"The euclidean distance and corresponding train data point\" ,sort_euc1[:3], \"The predicted class label is:\"  'W')\n",
        "print(\"The manhattan distance and corresponding train data point\",sort_man1[:3],\"The predicted class label is:\"  'W')\n",
        "print(\"The minowski distance and corresponding train data point\",sort_min1[:3],\"The predicted class label is:\"  'W')\n",
        "print(\"\\n\")\n",
        "\n",
        "print(\"For Test data \",test_data[1],\" The similarity measures are:\")\n",
        "print(\"The euclidean distance and corresponding train data point\" ,sort_euc2[:3], \"The predicted class label is:\"  'W')\n",
        "print(\"The manhattan distance and corresponding train data point\",sort_man2[:3],\"The predicted class label is:\"  'W')\n",
        "print(\"The minowski distance and corresponding train data point\",sort_min2[:3],\"The predicted class label is:\"  'W')\n",
        "print(\"\\n\")\n",
        "\n",
        "\n",
        "print(\"For Test data \",test_data[2],\" The similarity measures are:\")\n",
        "print(\"The euclidean distance and corresponding train data point\" ,sort_euc3[:3], \"The predicted class label is:\"  'W')\n",
        "print(\"The manhattan distance and corresponding train data point\",sort_man3[:3],\"The predicted class label is:\"  'W')\n",
        "print(\"The minowski distance and corresponding train data point\",sort_min3[:3],\"The predicted class label is:\"  'W')\n",
        "print(\"\\n\")\n",
        "\n",
        "print(\"For Test data \",test_data[3],\" The similarity measures are:\")\n",
        "print(\"The euclidean distance and corresponding train data point\" ,sort_euc4[:3], \"The predicted class label is:\"  'W')\n",
        "print(\"The manhattan distance and corresponding train data point\",sort_man4[:3],\"The predicted class label is:\"  'W')\n",
        "print(\"The minowski distance and corresponding train data point\",sort_min4[:3],\"The predicted class label is:\"  'W')\n",
        "print(\"\\n\")\n",
        "\n",
        "\n",
        "\n"
      ],
      "metadata": {
        "colab": {
          "base_uri": "https://localhost:8080/"
        },
        "id": "qs73whWBlGvv",
        "outputId": "603c0201-1cd8-444c-dd6b-4889faf6d664"
      },
      "execution_count": 15,
      "outputs": [
        {
          "output_type": "stream",
          "name": "stdout",
          "text": [
            "For Test data  (1.62065759, 59.37655744, 32)  The similarity measures are:\n",
            "The euclidean distance and corresponding train data point [(5.472950174325465, (1.52135529, 63.95294495, 35)), (5.700641626283879, (1.71872241, 62.11292332, 37)), (5.899073148551425, (1.57809707, 64.92608468, 30))] The predicted class label is:W\n",
            "The manhattan distance and corresponding train data point [(7.592087759707, (1.57809707, 64.92608468, 30)), (7.675689812707, (1.52135529, 63.95294495, 35)), (7.765217365706993, (1.55526893, 66.07638614, 31))] The predicted class label is:W\n",
            "The minowski distance and corresponding train data point [(4.963144423424694, (1.52135529, 63.95294495, 35)), (5.250775641013181, (1.71872241, 62.11292332, 37)), (5.625064994637956, (1.57809707, 64.92608468, 30))] The predicted class label is:W\n",
            "\n",
            "\n",
            "For Test data  (1.77939838, 72.07177567, 36)  The similarity measures are:\n",
            "The euclidean distance and corresponding train data point [(2.076098289875464, (1.64713849, 72.61278531, 34)), (3.3424883488647725, (1.64720558, 73.53968351, 33)), (4.530534195512604, (1.68879808, 76.48964073, 37))] The predicted class label is:W\n",
            "The manhattan distance and corresponding train data point [(2.673269533035304, (1.64713849, 72.61278531, 34)), (4.6001006450353, (1.64720558, 73.53968351, 33)), (5.508465365035303, (1.68879808, 76.48964073, 37))] The predicted class label is:W\n",
            "The minowski distance and corresponding train data point [(2.011891534675748, (1.64713849, 72.61278531, 34)), (3.109395722187529, (1.64720558, 73.53968351, 33)), (4.428289858806423, (1.68879808, 76.48964073, 37))] The predicted class label is:W\n",
            "\n",
            "\n",
            "For Test data  (1.70045766, 66.26750811, 31)  The similarity measures are:\n",
            "The euclidean distance and corresponding train data point [(0.2400153673306244, (1.55526893, 66.07638614, 31)), (1.677614061451513, (1.57809707, 64.92608468, 30)), (3.270336372270716, (1.65876294, 69.38092449, 30))] The predicted class label is:W\n",
            "The manhattan distance and corresponding train data point [(0.3363107053834071, (1.55526893, 66.07638614, 31)), (2.4637840193834015, (1.57809707, 64.92608468, 30)), (4.1551110998113945, (1.65876294, 69.38092449, 30))] The predicted class label is:W\n",
            "The minowski distance and corresponding train data point [(0.21607417770229032, (1.55526893, 66.07638614, 31)), (1.5053760981032194, (1.57809707, 64.92608468, 30)), (3.14382689850959, (1.65876294, 69.38092449, 30))] The predicted class label is:W\n",
            "\n",
            "\n",
            "For Test data  (1.65910862, 61.7516219, 29)  The similarity measures are:\n",
            "The euclidean distance and corresponding train data point [(3.32923066209219, (1.57809707, 64.92608468, 30)), (4.765959336638417, (1.55526893, 66.07638614, 31)), (4.8350516248245325, (1.52022182, 66.15144402, 27))] The predicted class label is:W\n",
            "The manhattan distance and corresponding train data point [(4.255474327728905, (1.57809707, 64.92608468, 30)), (6.428603933728899, (1.55526893, 66.07638614, 31)), (6.538708916728902, (1.52022182, 66.15144402, 27))] The predicted class label is:W\n",
            "The minowski distance and corresponding train data point [(3.203483595031558, (1.57809707, 64.92608468, 30)), (4.456229604031121, (1.55526893, 66.07638614, 31)), (4.526669562980875, (1.52022182, 66.15144402, 27))] The predicted class label is:W\n",
            "\n",
            "\n"
          ]
        }
      ]
    },
    {
      "cell_type": "markdown",
      "source": [],
      "metadata": {
        "id": "LzFAYLISyJvu"
      }
    },
    {
      "cell_type": "markdown",
      "source": [
        "Prediction For k=7 and finding the corresponding neighbouring point"
      ],
      "metadata": {
        "id": "qJtjUbst8z4Y"
      }
    },
    {
      "cell_type": "code",
      "source": [
        "print(\"For Test data \",test_data[0],\" The similarity measures are:\")\n",
        "print(\"The euclidean distance and corresponding train data point\" ,sort_euc1[:6], \"The predicted class label is:\"  'W')\n",
        "print(\"The manhattan distance and corresponding train data point\",sort_man1[:6],\"The predicted class label is:\"  'W')\n",
        "print(\"The minowski distance and corresponding train data point\",sort_min1[:6],\"The predicted class label is:\"  'W')\n",
        "print(\"\\n\")\n",
        "\n",
        "\n",
        "print(\"For Test data \",test_data[1],\" The similarity measures are:\")\n",
        "print(\"The euclidean distance and corresponding train data point\" ,sort_euc2[:6], \"The predicted class label is:\"  'W')\n",
        "print(\"The manhattan distance and corresponding train data point\",sort_man2[:6],\"The predicted class label is:\"  'W')\n",
        "print(\"The minowski distance and corresponding train data point\",sort_min2[:6],\"The predicted class label is:\"  'W')\n",
        "print(\"\\n\")\n",
        "\n",
        "\n",
        "print(\"For Test data \",test_data[2],\" The similarity measures are:\")\n",
        "print(\"The euclidean distance and corresponding train data point\" ,sort_euc3[:6], \"The predicted class label is:\"  'W')\n",
        "print(\"The manhattan distance and corresponding train data point\",sort_man3[:6],\"The predicted class label is:\"  'W')\n",
        "print(\"The minowski distance and corresponding train data point\",sort_min3[:6],\"The predicted class label is:\"  'W')\n",
        "print(\"\\n\")\n",
        "\n",
        "\n",
        "print(\"For Test data \",test_data[3],\" The similarity measures are:\")\n",
        "print(\"The euclidean distance and corresponding train data point\" ,sort_euc4[:6], \"The predicted class label is:\"  'W')\n",
        "print(\"The manhattan distance and corresponding train data point\",sort_man4[:6],\"The predicted class label is:\"  'W')\n",
        "print(\"The minowski distance and corresponding train data point\",sort_min4[:6],\"The predicted class label is:\"  'W')\n",
        "print(\"\\n\")\n",
        "\n",
        "\n",
        "\n"
      ],
      "metadata": {
        "colab": {
          "base_uri": "https://localhost:8080/"
        },
        "id": "qTdGzIyQmOtb",
        "outputId": "103c3e8f-bf33-4b3c-b369-e06570712dda"
      },
      "execution_count": 16,
      "outputs": [
        {
          "output_type": "stream",
          "name": "stdout",
          "text": [
            "For Test data  (1.62065759, 59.37655744, 32)  The similarity measures are:\n",
            "The euclidean distance and corresponding train data point [(5.472950174325465, (1.52135529, 63.95294495, 35)), (5.700641626283879, (1.71872241, 62.11292332, 37)), (5.899073148551425, (1.57809707, 64.92608468, 30)), (6.7743619861221935, (1.55526893, 66.07638614, 31)), (8.420758608805034, (1.52022182, 66.15144402, 27)), (10.202392471226277, (1.65876294, 69.38092449, 30))] The predicted class label is:W\n",
            "The manhattan distance and corresponding train data point [(7.592087759707, (1.57809707, 64.92608468, 30)), (7.675689812707, (1.52135529, 63.95294495, 35)), (7.765217365706993, (1.55526893, 66.07638614, 31)), (7.834430702126998, (1.71872241, 62.11292332, 37)), (11.875322348706996, (1.52022182, 66.15144402, 27)), (12.042472399126996, (1.65876294, 69.38092449, 30))] The predicted class label is:W\n",
            "The minowski distance and corresponding train data point [(4.963144423424694, (1.52135529, 63.95294495, 35)), (5.250775641013181, (1.71872241, 62.11292332, 37)), (5.625064994637956, (1.57809707, 64.92608468, 30)), (6.6944954761778535, (1.55526893, 66.07638614, 31)), (7.567221371159437, (1.52022182, 66.15144402, 27)), (10.007838545676, (1.65876294, 69.38092449, 30))] The predicted class label is:W\n",
            "\n",
            "\n",
            "For Test data  (1.77939838, 72.07177567, 36)  The similarity measures are:\n",
            "The euclidean distance and corresponding train data point [(2.076098289875464, (1.64713849, 72.61278531, 34)), (3.3424883488647725, (1.64720558, 73.53968351, 33)), (4.530534195512604, (1.68879808, 76.48964073, 37)), (5.742269463018263, (1.69693332, 77.45386245, 34)), (6.576871063715184, (1.65876294, 69.38092449, 30)), (7.065119689797047, (1.6763296, 77.06229599, 31))] The predicted class label is:W\n",
            "The manhattan distance and corresponding train data point [(2.673269533035304, (1.64713849, 72.61278531, 34)), (4.6001006450353, (1.64720558, 73.53968351, 33)), (5.508465365035303, (1.68879808, 76.48964073, 37)), (7.4645518450353, (1.69693332, 77.45386245, 34)), (8.811486629637304, (1.65876294, 69.38092449, 30)), (9.3768738166373, (1.52135529, 63.95294495, 35))] The predicted class label is:W\n",
            "The minowski distance and corresponding train data point [(2.011891534675748, (1.64713849, 72.61278531, 34)), (3.109395722187529, (1.64720558, 73.53968351, 33)), (4.428289858806423, (1.68879808, 76.48964073, 37)), (5.463326783122097, (1.69693332, 77.45386245, 34)), (6.164019097035188, (1.65876294, 69.38092449, 30)), (6.282081523866319, (1.6763296, 77.06229599, 31))] The predicted class label is:W\n",
            "\n",
            "\n",
            "For Test data  (1.70045766, 66.26750811, 31)  The similarity measures are:\n",
            "The euclidean distance and corresponding train data point [(0.2400153673306244, (1.55526893, 66.07638614, 31)), (1.677614061451513, (1.57809707, 64.92608468, 30)), (3.270336372270716, (1.65876294, 69.38092449, 30)), (4.005740359792148, (1.52022182, 66.15144402, 27)), (4.624854624020235, (1.52135529, 63.95294495, 35)), (7.018930519895269, (1.64713849, 72.61278531, 34))] The predicted class label is:W\n",
            "The manhattan distance and corresponding train data point [(0.3363107053834071, (1.55526893, 66.07638614, 31)), (2.4637840193834015, (1.57809707, 64.92608468, 30)), (4.1551110998113945, (1.65876294, 69.38092449, 30)), (4.296299928383404, (1.52022182, 66.15144402, 27)), (6.493665532383401, (1.52135529, 63.95294495, 35)), (9.325427476811399, (1.64720558, 73.53968351, 33))] The predicted class label is:W\n",
            "The minowski distance and corresponding train data point [(0.21607417770229032, (1.55526893, 66.07638614, 31)), (1.5053760981032194, (1.57809707, 64.92608468, 30)), (3.14382689850959, (1.65876294, 69.38092449, 30)), (3.994612840794685, (1.52022182, 66.15144402, 27)), (4.2372118248321, (1.52135529, 63.95294495, 35)), (6.549037003964322, (1.64713849, 72.61278531, 34))] The predicted class label is:W\n",
            "\n",
            "\n",
            "For Test data  (1.65910862, 61.7516219, 29)  The similarity measures are:\n",
            "The euclidean distance and corresponding train data point [(3.32923066209219, (1.57809707, 64.92608468, 30)), (4.765959336638417, (1.55526893, 66.07638614, 31)), (4.8350516248245325, (1.52022182, 66.15144402, 27)), (6.392558106361884, (1.52135529, 63.95294495, 35)), (7.694560292961, (1.65876294, 69.38092449, 30)), (8.00837639715198, (1.71872241, 62.11292332, 37))] The predicted class label is:W\n",
            "The manhattan distance and corresponding train data point [(4.255474327728905, (1.57809707, 64.92608468, 30)), (6.428603933728899, (1.55526893, 66.07638614, 31)), (6.538708916728902, (1.52022182, 66.15144402, 27)), (8.339076380728905, (1.52135529, 63.95294495, 35)), (8.420915205697103, (1.71872241, 62.11292332, 37)), (8.6296482737289, (1.65876294, 69.38092449, 30))] The predicted class label is:W\n",
            "The minowski distance and corresponding train data point [(3.203483595031558, (1.57809707, 64.92608468, 30)), (4.456229604031121, (1.55526893, 66.07638614, 31)), (4.526669562980875, (1.52022182, 66.15144402, 27)), (6.086198495713856, (1.52135529, 63.95294495, 35)), (7.619520751181789, (1.65876294, 69.38092449, 30)), (7.9836277339258945, (1.71872241, 62.11292332, 37))] The predicted class label is:W\n",
            "\n",
            "\n"
          ]
        }
      ]
    },
    {
      "cell_type": "markdown",
      "source": [],
      "metadata": {
        "id": "YDIH9Gmh0zqX"
      }
    },
    {
      "cell_type": "markdown",
      "source": [],
      "metadata": {
        "id": "zJL0gTYCyrjW"
      }
    }
  ]
}