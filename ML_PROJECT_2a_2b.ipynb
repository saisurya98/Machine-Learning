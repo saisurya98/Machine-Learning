{
  "nbformat": 4,
  "nbformat_minor": 0,
  "metadata": {
    "colab": {
      "provenance": [],
      "collapsed_sections": []
    },
    "kernelspec": {
      "name": "python3",
      "display_name": "Python 3"
    },
    "language_info": {
      "name": "python"
    }
  },
  "cells": [
    {
      "cell_type": "code",
      "execution_count": 292,
      "metadata": {
        "id": "zCdDDTuO2CCJ"
      },
      "outputs": [],
      "source": [
        "# Importing Required Packages\n",
        "import numpy as np\n",
        "import math\n",
        "from math import sqrt\n",
        "from math import pi\n",
        "from math import exp\n",
        " "
      ]
    },
    {
      "cell_type": "markdown",
      "source": [],
      "metadata": {
        "id": "VLh_1TOw418r"
      }
    },
    {
      "cell_type": "code",
      "source": [
        "k =np.genfromtxt('2a_2b.txt',dtype=None, names = ['myfloat','myfloat','myint','mystring'],delimiter=',')"
      ],
      "metadata": {
        "id": "cU312ypGxY9g"
      },
      "execution_count": 293,
      "outputs": []
    },
    {
      "cell_type": "code",
      "source": [
        "train_data=list(k)\n",
        "train_data"
      ],
      "metadata": {
        "colab": {
          "base_uri": "https://localhost:8080/"
        },
        "id": "Z1RMO77lydfJ",
        "outputId": "dedc73e7-7dc3-4581-ed82-1e3683db3905"
      },
      "execution_count": 294,
      "outputs": [
        {
          "output_type": "execute_result",
          "data": {
            "text/plain": [
              "[(1.65301904, 72.87114665, 24, 1),\n",
              " (1.64713849, 72.61278531, 34, 1),\n",
              " (1.64720558, 73.53968351, 33, 0),\n",
              " (1.73230089, 76.06787034, 30, 0),\n",
              " (1.67507027, 81.05582112, 30, 0),\n",
              " (1.57809707, 64.92608468, 30, 1),\n",
              " (1.65876294, 69.38092449, 30, 0),\n",
              " (1.6763296, 77.06229599, 31, 0),\n",
              " (1.71872241, 62.11292332, 37, 1),\n",
              " (1.52022182, 66.15144402, 27, 1),\n",
              " (1.55526893, 66.07638614, 31, 1),\n",
              " (1.69693332, 77.45386245, 34, 0),\n",
              " (1.68879808, 76.48964073, 37, 0),\n",
              " (1.52135529, 63.95294495, 35, 1)]"
            ]
          },
          "metadata": {},
          "execution_count": 294
        }
      ]
    },
    {
      "cell_type": "markdown",
      "source": [],
      "metadata": {
        "id": "6kOaMCk3FmoR"
      }
    },
    {
      "cell_type": "code",
      "source": [
        "#Enter the test_data where class label used be predicted\n",
        "test_data=[[ 1.62065758929, 59.376557437583, 32], \n",
        "            [ 1.7793983848363, 72.071775670801, 36], \n",
        "            [ 1.7004576585974, 66.267508112786, 31], \n",
        "            [ 1.6591086215159, 61.751621901787, 29]]"
      ],
      "metadata": {
        "id": "Sl3pCIEwgrNE"
      },
      "execution_count": 295,
      "outputs": []
    },
    {
      "cell_type": "code",
      "source": [
        "#separate the dataset by class label \n",
        "def separate_by_class_label(dataset):\n",
        "    class_values = {}\n",
        "    for i in range(0,len(dataset)):\n",
        "        x = dataset[i]\n",
        "        label = x[-1]\n",
        "        if (label not in class_values):\n",
        "            y=list()\n",
        "            class_values[label] =y\n",
        "        class_values[label].append(x)\n",
        "    return class_values"
      ],
      "metadata": {
        "id": "ntTkl4rS2KG8"
      },
      "execution_count": 297,
      "outputs": []
    },
    {
      "cell_type": "code",
      "source": [
        "# Calculate the mean of a list of numbers\n",
        "def mean(numbers):\n",
        "\treturn (np.mean(numbers))\n",
        " \n",
        "# Calculate the standard deviation of a list of numbers\n",
        "def stdev(numbers):\n",
        "\treturn (np.std(numbers))\n",
        " \n",
        "# Calculate the mean, stdev and count for each column in a dataset\n",
        "def summarize_dataset(dataset):\n",
        "\tsummaries = [(mean(column), stdev(column), len(column)) for column in zip(*dataset)]\n",
        "\tdel(summaries[-1])\n",
        "\treturn summaries"
      ],
      "metadata": {
        "id": "VO65C-xRNF10"
      },
      "execution_count": 298,
      "outputs": []
    },
    {
      "cell_type": "code",
      "source": [
        "summarize_dataset(train_data)"
      ],
      "metadata": {
        "colab": {
          "base_uri": "https://localhost:8080/"
        },
        "id": "foWYQqaDnCZe",
        "outputId": "aac37c6d-fd34-4434-c3fe-a1abd7b17b9b"
      },
      "execution_count": 299,
      "outputs": [
        {
          "output_type": "execute_result",
          "data": {
            "text/plain": [
              "[(1.6406588372142856, 0.0670512288171452, 14),\n",
              " (71.41098669285714, 5.741053490786589, 14),\n",
              " (31.642857142857142, 3.5174492149271805, 14)]"
            ]
          },
          "metadata": {},
          "execution_count": 299
        }
      ]
    },
    {
      "cell_type": "code",
      "source": [
        "# Split dataset by class then calculate statistics for each row\n",
        "def summarize_class(dataset):\n",
        "\tseparated = separate_by_class_label(dataset)\n",
        "\tsummaries = dict()\n",
        "\tfor i, j in separated.items():\n",
        "\t\tsummaries[i] = summarize_dataset(j)\n",
        "\treturn summaries\n",
        "  "
      ],
      "metadata": {
        "id": "LGDoUejjii4p"
      },
      "execution_count": 300,
      "outputs": []
    },
    {
      "cell_type": "code",
      "source": [
        "summarize_class(train_data)"
      ],
      "metadata": {
        "colab": {
          "base_uri": "https://localhost:8080/"
        },
        "id": "Ew_HC3wXnJh6",
        "outputId": "dcc003cc-5487-4ad1-b80d-808ad14e3327"
      },
      "execution_count": 301,
      "outputs": [
        {
          "output_type": "execute_result",
          "data": {
            "text/plain": [
              "{1: [(1.599117579, 0.06984960508661349, 7),\n",
              "  (66.95767358142858, 3.873047503748241, 7),\n",
              "  (31.142857142857142, 4.257046978786097, 7)],\n",
              " 0: [(1.6822000954285714, 0.025717989287083604, 7),\n",
              "  (75.86429980428571, 3.354832047213696, 7),\n",
              "  (32.142857142857146, 2.4743582965269675, 7)]}"
            ]
          },
          "metadata": {},
          "execution_count": 301
        }
      ]
    },
    {
      "cell_type": "code",
      "source": [
        "#calculating the gaussian probability for any given x\n",
        "def calculate_gaussian_probability(x, mean, stdev):\n",
        "    exponent = exp(-((x-mean)**2 / (2 * stdev**2 )))\n",
        "    return (1 / (np.sqrt(2 * np.pi) * stdev)) * exponent"
      ],
      "metadata": {
        "id": "XAnCMIXJ3TNr"
      },
      "execution_count": 303,
      "outputs": []
    },
    {
      "cell_type": "markdown",
      "source": [],
      "metadata": {
        "id": "KXhs5zbVnQaH"
      }
    },
    {
      "cell_type": "code",
      "source": [
        "#Calculate the probabilities of predicting each class for a given row\n",
        "def calculate_class_probabilities(summaries, row):\n",
        "\ttotal_rows = sum([summaries[label][0][2] for label in summaries])\n",
        "\tprobabilities = dict()\n",
        "\tfor x ,y in summaries.items():\n",
        "\t\tprobabilities[x] = summaries[x][0][2]/float(total_rows)\n",
        "\t\tfor k in range(len(y)):\n",
        "\t\t\tmean, stdev,ls = y[k]\n",
        "\t\t\tprobabilities[x] *= calculate_gaussian_probability(row[k], mean, stdev)\n",
        "\treturn probabilities"
      ],
      "metadata": {
        "id": "8dujedNo4Sac"
      },
      "execution_count": 304,
      "outputs": []
    },
    {
      "cell_type": "code",
      "source": [
        "#Probability of the men and women class for test data point\n",
        "summary = summarize_class(train_data)\n",
        "for j in test_data:\n",
        "  x=calculate_class_probabilities(summary,j)\n",
        "  print(x)"
      ],
      "metadata": {
        "colab": {
          "base_uri": "https://localhost:8080/"
        },
        "id": "MHo934h-d7Qu",
        "outputId": "dbb551e0-6c52-4707-96f6-607b880934d7"
      },
      "execution_count": 305,
      "outputs": [
        {
          "output_type": "stream",
          "name": "stdout",
          "text": [
            "{1: 0.0037926067384528974, 0: 4.822524416968902e-08}\n",
            "{1: 0.00021506176148040386, 0: 1.842782085262536e-05}\n",
            "{1: 0.00946582823792405, 0: 0.0017364403541862015}\n",
            "{1: 0.006805110323769451, 0: 6.372111702722519e-06}\n"
          ]
        }
      ]
    },
    {
      "cell_type": "markdown",
      "source": [
        "**2B**"
      ],
      "metadata": {
        "id": "Cjy5UBqb7Zkm"
      }
    },
    {
      "cell_type": "code",
      "source": [
        "#predicting label for the test row\n",
        "def predict(stats, row):\n",
        "    probabilities = calculate_class_probabilities(stats, row)\n",
        "    best_label, best_prob = None, -1\n",
        "    for class_value, probability in probabilities.items():\n",
        "        if best_label is None or probability > best_prob:\n",
        "            best_prob = probability\n",
        "            best_label = class_value\n",
        "    return best_label"
      ],
      "metadata": {
        "id": "XUBMt6708FsI"
      },
      "execution_count": 306,
      "outputs": []
    },
    {
      "cell_type": "code",
      "source": [
        "#predicting label for multiple rows\n",
        "def naive_bayes(train, test):\n",
        "    stats = summarize_class(train)\n",
        "    predictions = list()\n",
        "    for row in test:\n",
        "        output = predict(stats, row)\n",
        "        predictions.append(output)\n",
        "    return(predictions)"
      ],
      "metadata": {
        "id": "T9jucwls8GsN"
      },
      "execution_count": 307,
      "outputs": []
    },
    {
      "cell_type": "code",
      "source": [
        "#Prediction for given test data\n",
        "print('the clasfication label for given four test data points are',naive_bayes(train_data, test_data))\n",
        "print('as we encoded 1 to be a Women class label the output will be [W,W,W,W]')"
      ],
      "metadata": {
        "colab": {
          "base_uri": "https://localhost:8080/"
        },
        "id": "7fXk2ESkuuXC",
        "outputId": "723bb8b3-9468-4c7b-ddfc-c25e15f81b6c"
      },
      "execution_count": 308,
      "outputs": [
        {
          "output_type": "stream",
          "name": "stdout",
          "text": [
            "the clasfication label for given four test data points are [1, 1, 1, 1]\n",
            "as we encoded 1 to be a Women class label the output will be [W,W,W,W]\n"
          ]
        }
      ]
    }
  ]
}