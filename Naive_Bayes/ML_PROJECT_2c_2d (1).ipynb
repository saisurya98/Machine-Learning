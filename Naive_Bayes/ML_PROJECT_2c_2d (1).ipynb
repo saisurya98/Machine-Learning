{
  "nbformat": 4,
  "nbformat_minor": 0,
  "metadata": {
    "colab": {
      "provenance": [],
      "collapsed_sections": []
    },
    "kernelspec": {
      "name": "python3",
      "display_name": "Python 3"
    },
    "language_info": {
      "name": "python"
    }
  },
  "cells": [
    {
      "cell_type": "code",
      "source": [
        "# Importing Required Packages\n",
        "import numpy as np\n",
        "import math"
      ],
      "metadata": {
        "id": "WMSijxez7lXh"
      },
      "execution_count": 21,
      "outputs": []
    },
    {
      "cell_type": "code",
      "execution_count": 22,
      "metadata": {
        "id": "KEhtU_nB7dwS"
      },
      "outputs": [],
      "source": [
        "# Defining training data after encoding the class label men into zero and women into one\n",
        "train_data=[[1.5963600450124, 75.717194178189, 23, 1], [1.6990610819676, 83.477307503684, 25, 0], [1.5052092436, 74.642420817737, 21, 1], [1.5738635789008, 78.562465284603, 30, 0], [1.796178772769, 74.566117057707, 29, 0], [1.6274618774347, 82.250591567161, 21, 1], [1.6396843250708, 71.37567170848, 20, 1], [1.538505823668, 77.418902097029, 32, 1], [1.6488692005889, 76.333044488477, 26, 1], [1.7233804613095, 85.812112126306, 27, 0], [1.7389100516771, 76.424421782215, 24, 1], [1.5775696242624, 77.201404139171, 29, 1], [1.7359417237856, 77.004988515324, 20, 0], [1.5510482441354, 72.950756316157, 24, 1], [1.5765653263667, 74.750113664457, 34, 1], [1.4916026885377, 65.880438515643, 28, 1], [1.6755053770068, 78.901754249459, 22, 0], [1.4805881225567, 69.652364469244, 30, 1], [1.6343943760912, 73.998278712613, 30, 1], [1.6338449829543, 79.216500811112, 27, 1], [1.5014451222259, 66.917339299419, 27, 1], [1.8575887178701, 79.942454850988, 28, 0], [1.6805940669394, 78.213519314007, 27, 1], [1.6888905106948, 83.031099742808, 20, 0], [1.7055120272359, 84.233282531303, 18, 0], [1.5681965896812, 74.753880204215, 22, 1], [1.6857758389206, 84.014217544019, 25, 1], [1.7767370337678, 75.709336556562, 27, 0], [1.6760125952287, 74.034126149139, 28, 0], [1.5999112612548, 72.040030344184, 27, 0], [1.6770845322305, 76.149431872551, 25, 0], [1.7596128136991, 87.366395298795, 29, 0], [1.5344541456027, 73.832214971449, 22, 1], [1.5992629534387, 82.4806916967, 34, 1], [1.6714162787917, 67.986534194515, 29, 1], [1.7070831676329, 78.269583353177, 25, 0], [1.5691295338456, 81.09431696972, 27, 0], [1.7767893419281, 76.910413184648, 30, 0], [1.5448153215763, 76.888087599642, 32, 1], [1.5452842691008, 69.761889289463, 30, 1], [1.6469991919639, 82.289126983444, 18, 1], [1.6353732734723, 77.829257585654, 19, 1], [1.7175342426502, 85.002276406574, 26, 0], [1.6163551692382, 77.247935733799, 21, 0], [1.6876845881843, 85.616829192322, 27, 0], [1.5472705508274, 64.474350365634, 23, 1], [1.558229415357, 80.382011318379, 21, 1], [1.6242189230632, 69.567339939973, 28, 1], [1.8215645865237, 78.163631826626, 22, 1], [1.6984142478298, 69.884030497097, 26, 0], [1.6468551415123, 82.666468220128, 29, 0], [1.5727791290292, 75.545348033094, 24, 0], [1.8086593470477, 78.093913654921, 27, 0], [1.613966988578, 76.083586505149, 23, 1], [1.6603990297076, 70.539053122611, 24, 0], [1.6737443242383, 66.042005829182, 28, 1], [1.6824912337281, 81.061984274536, 29, 0], [1.5301691510101, 77.26547501308, 22, 0], [1.7392340943261, 92.752488433153, 24, 0], [1.6427105169884, 83.322790265985, 30, 0], [1.5889040551166, 74.848224733663, 25, 1], [1.5051718284868, 80.078271153645, 31, 1], [1.729420786579, 81.936423109142, 26, 0], [1.7352568354092, 85.497712687992, 19, 0], [1.5056950011245, 73.726557750383, 24, 1], [1.772404089054, 75.534265951718, 30, 0], [1.5212346939173, 74.355845722315, 29, 1], [1.8184515409355, 85.705767969326, 25, 0], [1.7307897479464, 84.277029918205, 28, 1], [1.6372690389158, 72.289040612489, 27, 0], [1.6856953072545, 70.406532419182, 28, 1], [1.832494802635, 81.627925524191, 27, 0], [1.5061197864796, 85.886760677468, 31, 1], [1.5970906671458, 71.755566818152, 27, 1], [1.6780459059283, 78.900587239209, 25, 1], [1.6356901170146, 84.066566323977, 21, 1], [1.6085494116591, 70.950456539016, 30, 0], [1.5873479102442, 77.558144903338, 25, 0], [1.7542078120838, 75.3117550236, 26, 0], [1.642417315747, 67.97377818999, 31, 1], [1.5744266340913, 81.767568318602, 23, 0], [1.8470601407979, 68.606183538532, 30, 1], [1.7119387468283, 80.560922353487, 27, 1], [1.6169930563306, 75.538611935125, 27, 0], [1.6355653058986, 78.49626023408, 24, 0], [1.6035395957618, 79.226052358485, 33, 0], [1.662787957279, 76.865925681154, 25, 0], [1.5889291137091, 76.548543553914, 28, 1], [1.9058127964477, 82.56539915922, 25, 0], [1.694633493614, 62.870480634419, 21, 1], [1.7635692396034, 82.479783004684, 27, 0], [1.6645292231449, 75.838104636904, 29, 1], [1.7201968406129, 81.134689293557, 24, 1], [1.5775563651749, 65.920103519266, 24, 1], [1.6521294216004, 83.312640709417, 28, 0], [1.5597501915973, 76.475667826389, 30, 1], [1.7847561120027, 83.363676219109, 29, 0], [1.6765690500715, 73.98959022721, 23, 0], [1.6749260607992, 73.687015573315, 27, 1], [1.58582362825, 71.713707691505, 28, 0], [1.5893375739649, 74.248033504548, 27, 1], [1.6084440045081, 71.126430164213, 27, 1], [1.6048804804343, 82.049319162211, 26, 1], [1.5774196609804, 70.878214496062, 24, 1], [1.6799586185525, 75.649534976838, 29, 1], [1.7315642636281, 92.12183674186, 29, 0], [1.5563282000349, 69.312673560451, 32, 1], [1.7784349641893, 83.464562543, 26, 0], [1.7270244609765, 76.599791001341, 22, 1], [1.6372540837311, 74.746741127229, 30, 1], [1.582550559056, 73.440027907722, 23, 1], [1.722864383186, 79.37821152354, 20, 1], [1.5247544081009, 70.601290492141, 27, 1], [1.580858666774, 70.146982323579, 24, 1], [1.703343390074, 90.153276095421, 22, 1], [1.5339948635367, 59.675627532338, 25, 1], [1.8095306490733, 86.001187990639, 20, 0], [1.7454786971676, 85.212429336602, 22, 0], [1.6343303342105, 85.46378358014, 32, 0], [1.5983479173071, 79.323905480504, 27, 1]]\n"
      ]
    },
    {
      "cell_type": "code",
      "source": [
        "#separate the dataset by class label \n",
        "def separate_by_class_label(dataset):\n",
        "    class_values = {}\n",
        "    for i in range(0,len(dataset)):\n",
        "        x = dataset[i]\n",
        "        label = x[-1]\n",
        "        if (label not in class_values):\n",
        "            y=list()\n",
        "            class_values[label] =y\n",
        "        class_values[label].append(x)\n",
        "    return class_values"
      ],
      "metadata": {
        "id": "_kF4ydpI8H1o"
      },
      "execution_count": 23,
      "outputs": []
    },
    {
      "cell_type": "code",
      "source": [
        "# Calculate the mean of a list of numbers\n",
        "def mean(numbers):\n",
        "\treturn (np.mean(numbers))\n",
        " \n",
        "# Calculate the standard deviation of a list of numbers\n",
        "def stdev(numbers):\n",
        "\treturn (np.std(numbers))\n",
        " \n",
        "# Calculate the mean, stdev and count for each column in a dataset\n",
        "def summarize_dataset(dataset):\n",
        "\tsummaries = [(mean(column), stdev(column), len(column)) for column in zip(*dataset)]\n",
        "\tdel(summaries[-1])\n",
        "\treturn summaries"
      ],
      "metadata": {
        "id": "cv8m54yR8KIA"
      },
      "execution_count": 24,
      "outputs": []
    },
    {
      "cell_type": "code",
      "source": [
        "# Split dataset by class then calculate statistics for each row\n",
        "def summarize_class(dataset):\n",
        "\tseparated = separate_by_class_label(dataset)\n",
        "\tsummaries = dict()\n",
        "\tfor i, j in separated.items():\n",
        "\t\tsummaries[i] = summarize_dataset(j)\n",
        "\treturn summaries"
      ],
      "metadata": {
        "id": "yTvM3rCo8NC0"
      },
      "execution_count": 25,
      "outputs": []
    },
    {
      "cell_type": "code",
      "source": [
        "#calculating the gaussian probability for any given x\n",
        "def calculate_gaussian_probability(x, mean, stdev):\n",
        "    exponent = exp(-((x-mean)**2 / (2 * stdev**2 )))\n",
        "    return (1 / (np.sqrt(2 * np.pi) * stdev)) * exponent"
      ],
      "metadata": {
        "id": "NWRlKi7g8P05"
      },
      "execution_count": 26,
      "outputs": []
    },
    {
      "cell_type": "code",
      "source": [
        "#Calculate the probabilities of predicting each class for a given row\n",
        "def calculate_class_probabilities(summaries, row):\n",
        "\ttotal_rows = sum([summaries[label][0][2] for label in summaries])\n",
        "\tprobabilities = dict()\n",
        "\tfor x ,y in summaries.items():\n",
        "\t\tprobabilities[x] = summaries[x][0][2]/float(total_rows)\n",
        "\t\tfor k in range(len(y)):\n",
        "\t\t\tmean, stdev,ls = y[k]\n",
        "\t\t\tprobabilities[x] *= calculate_gaussian_probability(row[k], mean, stdev)\n",
        "\treturn probabilities"
      ],
      "metadata": {
        "id": "8Wp5EEbJ8Sq9"
      },
      "execution_count": 27,
      "outputs": []
    },
    {
      "cell_type": "code",
      "source": [
        "#predicting label for the test row\n",
        "def predict(stats, row):\n",
        "    probabilities = calculate_class_probabilities(stats, row)\n",
        "    best_label, best_prob = None, -1\n",
        "    for class_value, probability in probabilities.items():\n",
        "        if best_label is None or probability > best_prob:\n",
        "            best_prob = probability\n",
        "            best_label = class_value\n",
        "    return best_label"
      ],
      "metadata": {
        "id": "B2TSQ8Eu8i3p"
      },
      "execution_count": 28,
      "outputs": []
    },
    {
      "cell_type": "code",
      "source": [
        "# Splitting the data from given programme data into train and test data for Leave one out cross validation and getting the acurracy measure using the correctness in prediction\n",
        "def leaveoneout_CV(train):\n",
        "  correct_predictions=0\n",
        "  for i in range(0,120):\n",
        "    test_LOCV= train[i]\n",
        "    train_LOCV=[x for x in train if x!=test_LOCV]\n",
        "    original_label=test_LOCV[-1]\n",
        "    sum=summarize_class(train_LOCV)\n",
        "   \n",
        "    predict_label=predict(sum,test_LOCV)\n",
        "    if predict_label == original_label:\n",
        "      correct_predictions=correct_predictions+1\n",
        "  return correct_predictions/len(train)"
      ],
      "metadata": {
        "id": "XnbM1KuV7wvm"
      },
      "execution_count": 29,
      "outputs": []
    },
    {
      "cell_type": "code",
      "source": [
        "print('the accuracy of naive bayes classifier using leave one out cross validation in percentage:',(leaveoneout_CV(train_data))*100)\n"
      ],
      "metadata": {
        "colab": {
          "base_uri": "https://localhost:8080/"
        },
        "id": "4RXVTou189Mg",
        "outputId": "9527bb95-6ebb-44c3-ca7e-d77853c139aa"
      },
      "execution_count": 30,
      "outputs": [
        {
          "output_type": "stream",
          "name": "stdout",
          "text": [
            "the accuracy of naive bayes classifier using leave one out cross validation in percentage: 70.0\n"
          ]
        }
      ]
    },
    {
      "cell_type": "markdown",
      "source": [
        "**2D**"
      ],
      "metadata": {
        "id": "-hZIeTOl9zXi"
      }
    },
    {
      "cell_type": "code",
      "source": [
        "#Training data for this question should not have age attribute\n",
        "train_data_without_age=train_data\n",
        "indices=[0,1,3]\n",
        "train_data_without_age=[[i[x] for x in indices] for i in train_data]\n",
        "print('the accuracy of naive bayes classifier using leave one out cross validation in percentage with out age attritube in input:',(leaveoneout_CV(train_data_without_age))*100)\n"
      ],
      "metadata": {
        "colab": {
          "base_uri": "https://localhost:8080/"
        },
        "id": "3P8g9SAb9y8K",
        "outputId": "741fcebc-a897-48d0-875b-f9eca617bfe0"
      },
      "execution_count": 31,
      "outputs": [
        {
          "output_type": "stream",
          "name": "stdout",
          "text": [
            "the accuracy of naive bayes classifier using leave one out cross validation in percentage with out age attritube in input: 70.83333333333334\n"
          ]
        }
      ]
    },
    {
      "cell_type": "markdown",
      "source": [
        "**2D**"
      ],
      "metadata": {
        "id": "neaRysGxC-YD"
      }
    },
    {
      "cell_type": "markdown",
      "source": [],
      "metadata": {
        "id": "NA0mDC3qDAvU"
      }
    },
    {
      "cell_type": "markdown",
      "source": [
        "When naive bayes classfication is used to evaluate correctness in prediction , the accuracy with out age attribute is more than accuracy with age attribute for a given train data."
      ],
      "metadata": {
        "id": "mBN3xdW8C9nR"
      }
    },
    {
      "cell_type": "markdown",
      "source": [
        "**2E**"
      ],
      "metadata": {
        "id": "FcdjfrDf_lJs"
      }
    },
    {
      "cell_type": "markdown",
      "source": [
        "\n",
        "The accuracy measure for naive bayes classifier is more than accuracy measure for K neareast neighbour algorithm for all given k values i.e k= 1,3,5,7,9,11.\n",
        "A special observation is the accuracy with age column using naive bayes classifier is same accuracy without age column using kNN classifier when k=3."
      ],
      "metadata": {
        "id": "gIxzathPBGF6"
      }
    },
    {
      "cell_type": "markdown",
      "source": [],
      "metadata": {
        "id": "H6ToScziA8YC"
      }
    }
  ]
}